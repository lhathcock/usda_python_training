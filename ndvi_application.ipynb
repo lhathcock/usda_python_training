{
 "cells": [
  {
   "cell_type": "markdown",
   "id": "6bbcb6dd-0a8f-46a2-ae30-4fa9d1c4f6f1",
   "metadata": {},
   "source": [
    "# Python Learn By Doing - Producing an Application Map for Crop Treatment\n",
    "\n",
    "**Author:** Lee Hathcock, Mississippi State University\n",
    "\n",
    "This example is adapted from Pix4D's website. Pix4D's various products do orthomosaics and can also\n",
    "automatically produce things like treatment maps for crops. But let's see if we can duplicate that\n",
    "in Python without leaning on paid software!\n",
    "\n",
    "https://community.pix4d.com/t/prescription-maps-for-variable-rate-application-pix4dfields-tutorials/23039\n",
    "\n",
    "Note that we won't be doing the image-stitching portion for this workbook. There are free alternatives\n",
    "available for photogrammetry, including OpenDroneMap (and the GUI version WebODM). While not as robust,\n",
    "it has come a long way over the years."
   ]
  },
  {
   "cell_type": "markdown",
   "id": "33cc1ad1-53a4-4a5e-9846-a26fefff8c27",
   "metadata": {},
   "source": [
    "## NDRE and NDVI Defined\n",
    "\n",
    "### NDVI\n",
    "\n",
    "Most folks in the agricultural field are aware of the Normalized Difference Vegetation Index (NDVI). This attempts\n",
    "to capture the health of a plant via the NIR and Red bands. Healthy plants strongly absorb red light at the top of\n",
    "the canopy, while NIR reflects very strongly. The ranges for NDVI are as follows:\n",
    "\n",
    "| Value | Class |\n",
    "|-----|-----|\n",
    "| -1.0 to 0.0 | Dead/non-plants |\n",
    "| 0.0 to 0.33 | Unhealthy plant |\n",
    "|0.33 to 0.66 | Moderately healthy plant |\n",
    "|0.66 to 1.0 | Very healthy plant |\n",
    "\n",
    "## NDRE\n",
    "\n",
    "Normalized Difference Red Edge Index (NDRE) replaces the red band with the red edge band, which is much more sensitive to leaf nitrogen content. It is\n",
    "suitable for permanent or dense crops, and will be more accurate for crops almost ready for harvest. This is what\n",
    "we're going to use for this application, although we're also going to visualize NDVI. Values look like the following:\n",
    "\n",
    "| Value | Class |\n",
    "|-----|-----|\n",
    "| -1.0 to 0.1 | Bad/no N uptake |\n",
    "| 0.1 to 0.3 | Weak N uptake |\n",
    "| 0.3 to 0.4 | Moderate N uptake |\n",
    "| 0.4 to 0.5 | Good N uptake |"
   ]
  },
  {
   "cell_type": "code",
   "execution_count": null,
   "id": "c2621ba0-757d-4324-8761-824efe26cab4",
   "metadata": {},
   "outputs": [],
   "source": [
    "# Bring in our libraries - GDAL and OSR for reading GeoTIFFs, NumPy for array\n",
    "# manipulation, matplotlib for displaying imagery\n",
    "\n",
    "import os, sys\n",
    "\n",
    "from osgeo import gdal\n",
    "from osgeo import osr\n",
    "from osgeo import ogr\n",
    "import numpy as np\n",
    "import matplotlib.pyplot as plt\n",
    "import matplotlib.colors as colors\n",
    "from urllib.request import urlretrieve"
   ]
  },
  {
   "cell_type": "code",
   "execution_count": null,
   "id": "e8c60cc7-eb86-40b4-b1ea-3ba1e2c7e574",
   "metadata": {},
   "outputs": [],
   "source": [
    "# create a folder for data downloads\n",
    "if not os.path.exists('./data'):\n",
    "    os.makedirs('./data')\n",
    "\n",
    "# info for shapefile to be downloaded\n",
    "base_filename='data/2023-07-07_USDA_NACA_400ft_BGREN_DLS_11pTarp'\n",
    "tif_info=  {'.tif':'https://osf.io/wugp3/download',\n",
    "            '.tfw':'https://osf.io/z5kvw/download',\n",
    "            '.tif.aux.xml':'https://osf.io/sbwdf/download',\n",
    "            '.tif.ovr':'https://osf.io/h4abx/download',\n",
    "            '.tif.xml':'https://osf.io/vqze6/download'}\n"
   ]
  },
  {
   "cell_type": "code",
   "execution_count": null,
   "id": "36977081-6bc6-4340-b834-5b287fd5d0e9",
   "metadata": {},
   "outputs": [],
   "source": [
    "# only need to run this cell once to download imagery\n",
    "for ext,url in tif_info.items():\n",
    "    filename=base_filename+ext\n",
    "    print('downloading',filename)\n",
    "    urlretrieve(url,filename) # download and save data\n"
   ]
  },
  {
   "cell_type": "markdown",
   "id": "91a2db42-347d-4408-b084-94f92b4b1228",
   "metadata": {},
   "source": [
    "## Opening the Image and Reading Cellsizes\n",
    "\n",
    "Much like before, we open our image and get the geotransform and projection. This time, we\n",
    "also want to go ahead and assign part of our geotransform, the x and y cellsizes, to\n",
    "variables for later."
   ]
  },
  {
   "cell_type": "code",
   "execution_count": null,
   "id": "f4e2fabb-969c-4434-af7f-e7fe56e73d64",
   "metadata": {},
   "outputs": [],
   "source": [
    "# Open the image file\n",
    "img = gdal.Open(base_filename+'.tif')\n",
    "\n",
    "# Get our image's geographic information\n",
    "geotransform = img.GetGeoTransform()\n",
    "wkt = img.GetProjection()\n",
    "proj = osr.SpatialReference(wkt)\n",
    "\n",
    "print (geotransform)\n",
    "\n",
    "# While we don't have to, will be useful to assign our cell sizes to variables for later\n",
    "xcellsize = geotransform[1]\n",
    "ycellsize = geotransform[5]"
   ]
  },
  {
   "cell_type": "markdown",
   "id": "5627c48e-b814-4e8f-9eb2-13f068298e2c",
   "metadata": {},
   "source": [
    "This time, we're reading in just the bands we need, which for NDVI and NDRE are\n",
    "red, red edge, and NIR, and putting them into NumPy arrays."
   ]
  },
  {
   "cell_type": "code",
   "execution_count": null,
   "id": "537d8411-379e-412c-9b04-8b2bf73614a4",
   "metadata": {},
   "outputs": [],
   "source": [
    "# Read in our bands. We're only going to grab what we need, so reading in\n",
    "# red, red edge, and NIR.\n",
    "\n",
    "# This will put the raster values for each band into a NumPy array.\n",
    "\n",
    "red = img.GetRasterBand(3).ReadAsArray()\n",
    "rededge = img.GetRasterBand(4).ReadAsArray()\n",
    "nir = img.GetRasterBand(5).ReadAsArray()"
   ]
  },
  {
   "cell_type": "markdown",
   "id": "ae3f29ae-499c-433a-abd9-f65dbc11f5cb",
   "metadata": {},
   "source": [
    "Once again grab our NoData values."
   ]
  },
  {
   "cell_type": "code",
   "execution_count": null,
   "id": "829f85ff-1256-4231-bbc4-09e5548d2dd6",
   "metadata": {},
   "outputs": [],
   "source": [
    "# Get our nodata values\n",
    "\n",
    "# This may actually change based on each band - probably not common, but\n",
    "# still possible.\n",
    "\n",
    "nodata = img.GetRasterBand(3).GetNoDataValue()\n",
    "red = np.where(red == nodata, np.nan, red)\n",
    "nodata = img.GetRasterBand(4).GetNoDataValue()\n",
    "rededge = np.where(rededge == nodata, np.nan, rededge)\n",
    "nodata = img.GetRasterBand(5).GetNoDataValue()\n",
    "nir = np.where(nir == nodata, np.nan, nir)"
   ]
  },
  {
   "cell_type": "code",
   "execution_count": null,
   "id": "078f6eaa-8e02-4a9b-aa03-40d62bea4f7a",
   "metadata": {},
   "outputs": [],
   "source": [
    "# The easiest way to change the display scale for imagery is to change the DPI.\n",
    "# The larger the number, the more it will slow things down.\n",
    "plt.rcParams['figure.dpi'] = 150"
   ]
  },
  {
   "cell_type": "markdown",
   "id": "dfd6f716-451d-4619-aa7b-24ac2f38da96",
   "metadata": {},
   "source": [
    "Just as a sanity check, let's view the red band and make sure it imported correctly."
   ]
  },
  {
   "cell_type": "code",
   "execution_count": null,
   "id": "7421e3fd-4ff3-4237-86f7-0a4423ac5a48",
   "metadata": {},
   "outputs": [],
   "source": [
    "# Grab our standard deviation and mean. Will need it so we can scale our imagery\n",
    "# more effectively. Currently using two standard deviations.\n",
    "stdev = np.nanstd(red)\n",
    "mean = np.nanmean(red)\n",
    "\n",
    "print(stdev)\n",
    "print(mean)\n",
    "\n",
    "red_min_std = mean - (stdev*2)\n",
    "red_max_std = mean + (stdev*2)\n",
    "\n",
    "# This calls our normalization function. The color map can be changed in the imshow\n",
    "# call - there are many built-in options, and custom color maps can also be used.\n",
    "normalize = colors.Normalize(vmin=red_min_std, vmax=red_max_std, clip=True)\n",
    "imred = plt.imshow(red, cmap='Reds_r', norm=normalize)"
   ]
  },
  {
   "cell_type": "markdown",
   "id": "0c9681be-9823-418f-9b13-afa833acf54e",
   "metadata": {},
   "source": [
    "## Computing NDVI\n",
    "\n",
    "We mentioned before that NDVI uses the Red and NIR bands. The formula should look quite familiar, as it\n",
    "(and NDRE) are very similar to NDWI.\n",
    "\n",
    "\\begin{equation}\n",
    "(NIR - Red) / (NIR + Red)\n",
    "\\end{equation}\n",
    "\n",
    "Note that the places in dark green are very healthy crops, and the more yellow areas are potentially more\n",
    "stressed crops. The red areas are primarily bare soil and roads."
   ]
  },
  {
   "cell_type": "code",
   "execution_count": null,
   "id": "52f7e552-affe-4774-a9f1-f8f0cbea4033",
   "metadata": {},
   "outputs": [],
   "source": [
    "# Can compute NDVI if we're interesting in looking for vegetation.\n",
    "\n",
    "# NDVI is (NIR - Red)/(NIR + Red)\n",
    "\n",
    "ndvi = np.divide((nir - red),(nir + red))\n",
    "stdev = np.nanstd(ndvi)\n",
    "mean = np.nanmean(ndvi)\n",
    "\n",
    "normalize = colors.Normalize(vmin=(mean - (stdev*2)), vmax=(mean + (stdev*2)), clip=True)\n",
    "imndvi = plt.imshow(ndvi, cmap='Spectral', norm=normalize)"
   ]
  },
  {
   "cell_type": "markdown",
   "id": "0b2be82b-f71e-436e-b70e-72927033a255",
   "metadata": {},
   "source": [
    "## Using the GDAL Warp Function\n",
    "\n",
    "One thing we may wish to do is resize our imagery while still keeping the geographic extents. One\n",
    "way to do this is via the \"Warp\" function, which takes an input GeoTIFF and takes various parameters\n",
    "to alter it and push to a new GeoTIFF. (Note that when using VRTs, you can also skip pushing to an\n",
    "intermediate file and store directly in memory.)\n",
    "\n",
    "In our case, I'm going to decimate the image by a factor of five, as for what we're doing, we don't\n",
    "need such fine-grained resolution."
   ]
  },
  {
   "cell_type": "code",
   "execution_count": null,
   "id": "75006959-881d-4330-a0df-c90e03700d15",
   "metadata": {},
   "outputs": [],
   "source": [
    "# We need to create a temporary GeoTIFF file to store our results in. Be careful with this,\n",
    "# as the rows and columns may be transposed from what the NumPy array holds currently.\n",
    "\n",
    "driver = gdal.GetDriverByName('GTiff')\n",
    "outdata = driver.Create('{}'.format(\"ndvi.tif\"), ndvi.shape[1], ndvi.shape[0], 1, \\\n",
    "                        gdal.GDT_Float32, options=['COMPRESS=DEFLATE'])\n",
    "\n",
    "# Write our modified classified array to the GeoTIFF we just created, and make sure to add\n",
    "# in our georeferencing as well.\n",
    "outdata.GetRasterBand(1).WriteArray(ndvi)\n",
    "outdata.SetGeoTransform(geotransform)\n",
    "srs = osr.SpatialReference()\n",
    "srs.ImportFromWkt(wkt)\n",
    "outdata.SetProjection(srs.ExportToWkt())\n",
    "outdata.FlushCache()\n",
    "outdata = None\n",
    "\n",
    "# We don't necessarily want the full resolution of the GeoTIFF, so use the Warp function\n",
    "# to reduce the resolution of the raster.\n",
    "\n",
    "result = gdal.Warp(\"ndvi_lowres.tif\", \"ndvi.tif\", xRes=xcellsize*5, yRes=ycellsize*5, resampleAlg=\"bilinear\")"
   ]
  },
  {
   "cell_type": "code",
   "execution_count": null,
   "id": "15a50366-ae82-4dba-a503-a20eae70af18",
   "metadata": {},
   "outputs": [],
   "source": [
    "# Not necessary to write directly to files, but can go straight to memory with Warp.\n",
    "result = gdal.Warp(\"\", \"ndvi.tif\", format=\"VRT\", outputType=gdal.GDT_Byte, xRes=xcellsize, yRes=ycellsize)\n",
    "result_array = result.ReadAsArray()\n",
    "plt.imshow(result_array)"
   ]
  },
  {
   "cell_type": "markdown",
   "id": "f523a4d5-2832-4c10-accd-d25edb617039",
   "metadata": {},
   "source": [
    "## Computing NDRE\n",
    "\n",
    "Once again, a familiar equation emerges, this time using red edge instead of red.\n",
    "\n",
    "\\begin{equation}\n",
    "(NIR - Red Edge) / (NIR + Red Edge)\n",
    "\\end{equation}"
   ]
  },
  {
   "cell_type": "code",
   "execution_count": null,
   "id": "5741fc92-8d31-4696-a7f4-823b052fb591",
   "metadata": {},
   "outputs": [],
   "source": [
    "# Let's look at NDRE as well. This is more sensitive to nitrogen content.\n",
    "\n",
    "# NDRE is (NIR - RedEdge)/(NIR + RedEdge)\n",
    "\n",
    "ndre = np.divide((nir - rededge),(nir + rededge))\n",
    "stdev = np.nanstd(ndvi)\n",
    "mean = np.nanmean(ndvi)\n",
    "\n",
    "normalize = colors.Normalize(vmin=(mean - (stdev*2)), vmax=(mean + (stdev*2)), clip=True)\n",
    "imndre = plt.imshow(ndre, cmap='Spectral', norm=normalize)"
   ]
  },
  {
   "cell_type": "markdown",
   "id": "1577c0b7-03fb-412a-8e4d-53a7eb9d856c",
   "metadata": {},
   "source": [
    "Once again we resize our image."
   ]
  },
  {
   "cell_type": "code",
   "execution_count": null,
   "id": "f622fe6e-77d8-449f-9fbf-34ff204ffb97",
   "metadata": {},
   "outputs": [],
   "source": [
    "# We need to create a temporary GeoTIFF file to store our results in. Be careful with this,\n",
    "# as the rows and columns may be transposed from what the NumPy array holds currently.\n",
    "driver = gdal.GetDriverByName('GTiff')\n",
    "outdata = driver.Create('{}'.format(\"ndre.tif\"), ndre.shape[1], ndre.shape[0], 1, \\\n",
    "                        gdal.GDT_Float32, options=['COMPRESS=DEFLATE'])\n",
    "\n",
    "# Write our modified classified array to the GeoTIFF we just created, and make sure to add\n",
    "# in our georeferencing as well.\n",
    "outdata.GetRasterBand(1).WriteArray(ndre)\n",
    "outdata.SetGeoTransform(geotransform)\n",
    "srs = osr.SpatialReference()\n",
    "srs.ImportFromWkt(wkt)\n",
    "outdata.SetProjection(srs.ExportToWkt())\n",
    "outdata.FlushCache()\n",
    "outdata = None\n",
    "\n",
    "# Reduce the resolution like last time to match.\n",
    "result = gdal.Warp(\"ndre_lowres.tif\", \"ndre.tif\", xRes=xcellsize*5, yRes=ycellsize*5, resampleAlg=\"bilinear\")"
   ]
  },
  {
   "cell_type": "markdown",
   "id": "7ce9dde5-1532-4e70-8f24-ab8261e17aec",
   "metadata": {},
   "source": [
    "## Using the NumPy select Command\n",
    "\n",
    "Since we're doing more than a binary classification on this dataset, we will leverage\n",
    "the NumPy \"select\" command, which lets us put together a list of conditions and choices\n",
    "to assign values to each conditional. In this case, we're going to assign NaN to any\n",
    "NDVI values less than zero, and then work through our NDRE conditional values for\n",
    "NDVI values greater than zero.\n",
    "\n",
    "In all technicality, the example Pix4D gave does not leverage NDVI at all, and it may\n",
    "not make much difference here either. It is included for example purposes only."
   ]
  },
  {
   "cell_type": "code",
   "execution_count": null,
   "id": "a8db9671-bbe9-45d1-bd2f-89152fab8761",
   "metadata": {},
   "outputs": [],
   "source": [
    "# There are different ranges that denote nitrogen uptake in NDRE.\n",
    "# 0.1 - 0.3 - Poor N uptake\n",
    "# 0.3 - 0.4 - Medium N uptake\n",
    "# 0.4 - 0.5 - Good N uptake\n",
    "# < 0.1 - Almost none/no uptake\n",
    "\n",
    "# Open our generated NDVI/NDRE low-resolution files and put into arrays.\n",
    "ndvi_img = gdal.Open('ndvi_lowres.tif')\n",
    "ndvi = ndvi_img.GetRasterBand(1).ReadAsArray()\n",
    "ndre_img = gdal.Open('ndre_lowres.tif')\n",
    "ndre = ndre_img.GetRasterBand(1).ReadAsArray()\n",
    "\n",
    "# Set up a conditional grouping so we can assign values based on our ranges.\n",
    "# Setting NDVI values less than zero to NoData since we're only interested\n",
    "# in plants.\n",
    "conditions  = [ (ndvi <= 0),\n",
    "                (ndre < 0.1) & (ndvi > 0),\n",
    "                (ndre >= 0.1) & (ndre < 0.3) & (ndvi > 0), \n",
    "                (ndre >= 0.3) & (ndre < 0.4) & (ndvi > 0),\n",
    "                (ndre >= 0.4) & (ndvi > 0) ]\n",
    "choices     = [ np.nan, 1, 2, 3, 4 ]\n",
    "\n",
    "classified = np.select(conditions, choices, default=np.nan)\n",
    "imclass = plt.imshow(classified, cmap='RdYlGn')"
   ]
  },
  {
   "cell_type": "markdown",
   "id": "81cbf1d5-6800-4271-8421-87d4918d4633",
   "metadata": {},
   "source": [
    "Looking pretty good! We're still going to do a sieve filter because why not?"
   ]
  },
  {
   "cell_type": "code",
   "execution_count": null,
   "id": "8e5b7d00-8961-4e8d-b3e6-8884098a924a",
   "metadata": {},
   "outputs": [],
   "source": [
    "# Not necessarily needed since we've reduced resolution, but we may still want to filter\n",
    "# the product a bit like we did the land/water mask.\n",
    "\n",
    "# First, we're going to take everywhere that is a NumPy NaN and turn back to zero. This will\n",
    "# effectively become our nodata value.\n",
    "classified_nodata = np.where(np.isnan(classified), 0, classified)\n",
    "\n",
    "# We need to create a temporary GeoTIFF file to store our results in. Be careful with this,\n",
    "# as the rows and columns may be transposed from what the NumPy array holds currently.\n",
    "driver = gdal.GetDriverByName('GTiff')\n",
    "outdata = driver.Create('{}'.format(\"ndvi_ndre_filter.tif\"), classified.shape[1], classified.shape[0], 1, \\\n",
    "                        gdal.GDT_Byte, options=['COMPRESS=DEFLATE'])\n",
    "\n",
    "# Write our modified classified array to the GeoTIFF we just created, and make sure to add\n",
    "# in our georeferencing as well.\n",
    "outdata.GetRasterBand(1).WriteArray(classified_nodata)\n",
    "outdata.SetGeoTransform(geotransform)\n",
    "srs = osr.SpatialReference()\n",
    "srs.ImportFromWkt(wkt)\n",
    "outdata.SetProjection(srs.ExportToWkt())\n",
    "\n",
    "# Now we're going to use GDAL's SieveFilter function to group pixels. There are several options to\n",
    "# change here, but we will stick with a connectedness of 4 (don't consider diagonal pixels adjacent),\n",
    "# and a threshold value of 50 (groups of pixels smaller than 50 will be disregarded).\n",
    "\n",
    "gdal.SieveFilter(srcBand=outdata.GetRasterBand(1), maskBand=None, dstBand=outdata.GetRasterBand(1), threshold=50, connectedness=8)\n",
    "outdata.GetRasterBand(1).SetNoDataValue(0)\n",
    "outdata.FlushCache()\n",
    "\n",
    "# Let's take a look at the results!\n",
    "flt = gdal.Open(\"ndvi_ndre_filter.tif\")\n",
    "fltimg = flt.GetRasterBand(1).ReadAsArray()\n",
    "nodata = flt.GetRasterBand(1).GetNoDataValue()\n",
    "fltimg_nan = np.where(fltimg == nodata, np.nan, fltimg)\n",
    "imflt = plt.imshow(fltimg_nan, cmap='RdYlGn')"
   ]
  },
  {
   "cell_type": "markdown",
   "id": "5e4418fb-043f-47d0-9edf-150669ddd033",
   "metadata": {},
   "source": [
    "## Choosing an Application Rate and Strategy\n",
    "\n",
    "You can take two different approaches to treatment for this field: heterogeneous or\n",
    "homogeneous. As Pix4D puts it, this is basically either Robin Hood or The Sheriff of\n",
    "Nottingham.\n",
    "\n",
    "### Homogenous (Robin Hood)\n",
    "\n",
    "The idea is to take from the richer areas of the field and try to boost production in\n",
    "areas that aren't terribly healthy.\n",
    "\n",
    "### Heterogeneous (Sheriff of Nottingham)\n",
    "\n",
    "In this case, we keep boosting the healthy plant areas and keep them rolling, effectively\n",
    "taking from the poor to give to the rich.\n",
    "\n",
    "Depending on the field, both of these are perfectly valid strategies to maximize yield.\n",
    "\n",
    "#### Selecting zones generically\n",
    "\n",
    "While we don't necessarily need to do it this way as we manually assigned classes above,\n",
    "we can generically parse our fields for unique values to denote zones we will work with.\n",
    "We're only really interested in three of our classes, though - values from 0.1 to 0.3,\n",
    "values from 0.3 to 0.4, and values greater than 0.4.\n",
    "\n",
    "Since there are NaN values in here, to get our average NDRE value for each zone (we'll need\n",
    "it in a second), we use the \"nanmean\" function. We're also storing the arrays we get from\n",
    "selecting each zone's values into a list, which we will then merge using the \"concatenate\"\n",
    "function to get the field-wide average for only our zones of interest."
   ]
  },
  {
   "cell_type": "code",
   "execution_count": null,
   "id": "24ca20d8-d45f-4741-88b0-e830223d9c50",
   "metadata": {},
   "outputs": [],
   "source": [
    "# Now let's compute our rates. Using two different approaches, Robin Hood and Sheriff of Nottingham.\n",
    "\n",
    "# We're going with a base rate of 55 lbs of nitrogen per acre. (This is close to 60 kgN/ha, but I want\n",
    "# Imperial units, thank you very much!)\n",
    "\n",
    "# If we want to Robin Hood this thing, let's look at our average value for each zone.\n",
    "\n",
    "zoneavg = []\n",
    "extractarrays = []\n",
    "\n",
    "# Let's look for our unique values. We technically already know this, but let's do it this way anyway.\n",
    "unique_vals = np.unique(fltimg)\n",
    "print(unique_vals)\n",
    "\n",
    "for val in unique_vals:\n",
    "    extract = ndre[fltimg == val]\n",
    "    mean = np.nanmean(extract)\n",
    "    if mean >= .1:\n",
    "        zoneavg.append(mean)\n",
    "        extractarrays.append(extract)\n",
    "print (zoneavg)\n",
    "\n",
    "extract_combined = np.concatenate(extractarrays)\n",
    "fieldavg = np.nanmean(extract_combined)\n",
    "\n",
    "print (fieldavg)"
   ]
  },
  {
   "cell_type": "markdown",
   "id": "78e8f71c-3b90-421a-80be-e003631e44d5",
   "metadata": {},
   "source": [
    "## Computing Application Rates\n",
    "\n",
    "### Homogenize (Robin Hood)\n",
    "\n",
    "Now we're ready to rock with application rates. The formula for homogenization is defined as:\n",
    "\n",
    "\\begin{equation}\n",
    "Rate_{zone} = (Rate_{flat} \\color{red}- \\color{black}[Rate_{flat} * ((NDRE_{ZoneAvg} - NDRE_{FieldAvg})/NDRE_{FieldAvg}) * Spread]\n",
    "\\end{equation}\n",
    "\n",
    "We're starting with our flat rate (in this case 55 lbs/acre), and then adjusting based on the zone's average\n",
    "compared to the field average and then multiplying by a spread function, which will exaggerate or lessen the\n",
    "adjustments between zones. In this case, we're subtracting all that from the flat rate to take from the\n",
    "best areas of the field and give more to the poor."
   ]
  },
  {
   "cell_type": "code",
   "execution_count": null,
   "id": "33c950e6-7883-433f-b29d-e83ddeb13c45",
   "metadata": {},
   "outputs": [],
   "source": [
    "# Robin Hood algorithm (homogenize)\n",
    "\n",
    "zonerate = []\n",
    "\n",
    "spread = 0.75\n",
    "flatrate = 55\n",
    "for z in zoneavg:\n",
    "    rate = flatrate - (flatrate * ((z - fieldavg)/fieldavg) * spread)\n",
    "    zonerate.append(rate)\n",
    "print (zonerate)"
   ]
  },
  {
   "cell_type": "markdown",
   "id": "f39018bf-2a2e-4ee9-9bce-b12db16b1e5d",
   "metadata": {},
   "source": [
    "### Heterogenize (Sheriff)\n",
    "\n",
    "The formula is virtually identical, but this time we add to the flat rate instead of subtracting to boost the\n",
    "richest areas of the field further.\n",
    "\n",
    "\\begin{equation}\n",
    "Rate_{zone} = (Rate_{flat} \\color{YellowGreen}+ \\color{black}[Rate_{flat} * ((NDRE_{ZoneAvg} - NDRE_{FieldAvg})/NDRE_{FieldAvg}) * Spread]\n",
    "\\end{equation}"
   ]
  },
  {
   "cell_type": "code",
   "execution_count": null,
   "id": "16b03c00-5be5-474e-8087-1d5a459169b3",
   "metadata": {},
   "outputs": [],
   "source": [
    "# Sheriff (heterogenize)\n",
    "\n",
    "zonerate = []\n",
    "\n",
    "spread = 0.75\n",
    "flatrate = 55\n",
    "for z in zoneavg:\n",
    "    rate = flatrate + (flatrate * ((z - fieldavg)/fieldavg) * spread)\n",
    "    zonerate.append(rate)\n",
    "print (zonerate)"
   ]
  }
 ],
 "metadata": {
  "kernelspec": {
   "display_name": "Python [conda env:.conda-pyworkshop] *",
   "language": "python",
   "name": "conda-env-.conda-pyworkshop-py"
  },
  "language_info": {
   "codemirror_mode": {
    "name": "ipython",
    "version": 3
   },
   "file_extension": ".py",
   "mimetype": "text/x-python",
   "name": "python",
   "nbconvert_exporter": "python",
   "pygments_lexer": "ipython3",
   "version": "3.12.3"
  }
 },
 "nbformat": 4,
 "nbformat_minor": 5
}
