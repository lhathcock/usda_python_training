{
 "cells": [
  {
   "cell_type": "code",
   "execution_count": null,
   "id": "73aa643e-289e-495c-9d14-87fa28a0c66d",
   "metadata": {},
   "outputs": [],
   "source": [
    "# Plant volume notebook\n",
    "\n",
    "# Author: Lee Hathccock\n",
    "\n",
    "# Bring in our libraries - GDAL and OSR for reading GeoTIFFs, NumPy for array\n",
    "# manipulation, matplotlib for displaying imagery\n",
    "\n",
    "import os, sys\n",
    "\n",
    "from osgeo import gdal\n",
    "from osgeo import osr\n",
    "from osgeo import ogr\n",
    "import numpy as np\n",
    "import matplotlib.pyplot as plt\n",
    "import matplotlib.colors as colors"
   ]
  },
  {
   "cell_type": "code",
   "execution_count": null,
   "id": "42d33cee-975a-4d5c-8c52-11a081d3afb6",
   "metadata": {},
   "outputs": [],
   "source": [
    "# We're going to clip our image files in this case using a shapefile.\n",
    "\n",
    "shp = ogr.Open('dsm_clip.shp')\n",
    "\n",
    "# Get the extent, and then rearrange because Warp takes them in a different order\n",
    "# than what is returned by GetExtent(). Specifically, it's xMin, yMin, xMax, yMax.\n",
    "# GetExtent() returns xMin, xMax, yMin, yMax.\n",
    "\n",
    "extent = shp.GetLayer().GetExtent()\n",
    "extent_mod = [extent[0], extent[2], extent[1], extent[3]]\n",
    "\n",
    "# Don't need to change the resolution of our summer DSM, but we are going to clip it\n",
    "# using the shapefile - or more specifically the extent of the shapefile for simplicity.\n",
    "\n",
    "outimg = gdal.Warp(\"summer_dsm_clip.tif\", \"2023-07-07_USDA_NACA_400ft_dsm.tif\", outputBounds = extent_mod,\n",
    "                    resampleAlg=\"nearestneighbor\", options=['COMPRESS=DEFLATE'])\n",
    "print (outimg)\n",
    "outimg = None\n",
    "\n",
    "# Let's open the generated GeoTIFF. Could have put this straight to memory instead.\n",
    "img = gdal.Open(\"summer_dsm_clip.tif\")\n",
    "\n",
    "# Get our image's geographic information\n",
    "geotransform = img.GetGeoTransform()\n",
    "wkt = img.GetProjection()\n",
    "proj = osr.SpatialReference(wkt)\n",
    "\n",
    "# Definitely need our x/y cell sizes for later.\n",
    "xcellsize = geotransform[1]\n",
    "ycellsize = geotransform[5]\n",
    "\n",
    "# Clip our other rasters and resample to match summer DSM.\n",
    "outimg = gdal.Warp(\"winter_dsm_clip.tif\", \"2023-01-27_USDA_NACA_400ft_dsm.tif\", outputBounds=extent_mod, \n",
    "                    xRes=xcellsize, yRes=ycellsize, resampleAlg=\"bilinear\", options=['COMPRESS=DEFLATE'])\n",
    "print (outimg)\n",
    "outimg = None\n",
    "\n",
    "outimg = gdal.Warp(\"summer_bgren_clip.tif\", \"2023-07-07_USDA_NACA_400ft_BGREN_DLS_11pTarp.tif\", outputBounds=extent_mod, \n",
    "                    xRes=xcellsize, yRes=ycellsize, resampleAlg=\"bilinear\", options=['COMPRESS=DEFLATE'])\n",
    "print (outimg)\n",
    "outimg = None"
   ]
  },
  {
   "cell_type": "code",
   "execution_count": null,
   "id": "66175f38-8c74-4c8d-95f8-ceb02af42617",
   "metadata": {},
   "outputs": [],
   "source": [
    "# The easiest way to change the display scale for imagery is to change the DPI.\n",
    "# The larger the number, the more it will slow things down.\n",
    "plt.rcParams['figure.dpi'] = 300"
   ]
  },
  {
   "cell_type": "code",
   "execution_count": null,
   "id": "1497403e-aaff-4299-a9f6-4bf3c36f0d55",
   "metadata": {},
   "outputs": [],
   "source": [
    "# Let's do some band math now!\n",
    "\n",
    "# Compute NDVI from resampled BGREN mosaic.\n",
    "\n",
    "img = gdal.Open(\"summer_bgren_clip.tif\")\n",
    "red = img.GetRasterBand(3).ReadAsArray()\n",
    "nir = img.GetRasterBand(5).ReadAsArray()\n",
    "\n",
    "ndvi = (nir - red)/(nir + red)"
   ]
  },
  {
   "cell_type": "code",
   "execution_count": null,
   "id": "890982f3-e8ac-4394-9935-2128320fdd2e",
   "metadata": {},
   "outputs": [],
   "source": [
    "# Let's subtract our basemap from the summer DSM.\n",
    "\n",
    "img = gdal.Open(\"summer_dsm_clip.tif\")\n",
    "summer_dsm = img.GetRasterBand(1).ReadAsArray()\n",
    "\n",
    "img = gdal.Open(\"winter_dsm_clip.tif\")\n",
    "winter_dsm = img.GetRasterBand(1).ReadAsArray()\n",
    "\n",
    "diff = summer_dsm - winter_dsm\n",
    "imdiff = plt.imshow(diff, cmap='gray')\n"
   ]
  },
  {
   "cell_type": "code",
   "execution_count": null,
   "id": "36a0b009-ffd0-4351-8255-dd1f075f7a04",
   "metadata": {},
   "outputs": [],
   "source": [
    "# Now we want to filter this for only plant material. So let's do a conditional.\n",
    "\n",
    "# Let's also make sure we don't have negative values from vegetation that may have been present\n",
    "# in winter but isn't now.\n",
    "\n",
    "diff_filtered = np.where((ndvi < 0) | (diff < 0), 0, diff)\n",
    "\n",
    "imdifffilt = plt.imshow(diff_filtered, cmap='gray')\n",
    "\n",
    "print (diff_filtered.min())\n",
    "print (diff_filtered.max())"
   ]
  },
  {
   "cell_type": "code",
   "execution_count": null,
   "id": "6691974b-d997-40a1-bb77-5c0175cf4cae",
   "metadata": {},
   "outputs": [],
   "source": [
    "# Get total plant volume from DSM.\n",
    "\n",
    "# Use X and Y resolution and height to compute volume.\n",
    "\n",
    "print(xcellsize, ycellsize)\n",
    "\n",
    "volume_array = diff_filtered * abs(xcellsize) * abs(ycellsize)\n",
    "imvolume = plt.imshow(volume_array, cmap='gray')\n",
    "\n",
    "print (diff_filtered[0][0] * abs(xcellsize) * abs(ycellsize))\n",
    "print (volume_array[0][0])"
   ]
  },
  {
   "cell_type": "code",
   "execution_count": null,
   "id": "14d51292-a3c4-4da4-8e46-e6969c52f0bf",
   "metadata": {},
   "outputs": [],
   "source": [
    "# Now sum up all our individual volumes (per-pixel) to get total biomass.\n",
    "\n",
    "total = np.sum(volume_array)\n",
    "print (total)"
   ]
  },
  {
   "cell_type": "code",
   "execution_count": null,
   "id": "d4fb2a2f-0c65-4505-8cf0-f3fe9cd8931d",
   "metadata": {},
   "outputs": [],
   "source": []
  }
 ],
 "metadata": {
  "kernelspec": {
   "display_name": "Python 3 (ipykernel)",
   "language": "python",
   "name": "python3"
  },
  "language_info": {
   "codemirror_mode": {
    "name": "ipython",
    "version": 3
   },
   "file_extension": ".py",
   "mimetype": "text/x-python",
   "name": "python",
   "nbconvert_exporter": "python",
   "pygments_lexer": "ipython3",
   "version": "3.11.7"
  }
 },
 "nbformat": 4,
 "nbformat_minor": 5
}
