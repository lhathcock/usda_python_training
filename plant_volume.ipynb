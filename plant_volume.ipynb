{
 "cells": [
  {
   "cell_type": "markdown",
   "id": "5943d1d7-18f5-403a-aa27-79cee8176b45",
   "metadata": {},
   "source": [
    "# Python Learn By Doing - Computing Plant Volume\n",
    "\n",
    "**Author:** Lee Hathcock"
   ]
  },
  {
   "cell_type": "markdown",
   "id": "e525393d-b1c0-4850-9e32-ce9b54a478b3",
   "metadata": {},
   "source": [
    "## Why We Might Want to Compute Plant Volume\n",
    "\n",
    "Late in the growing season, when canopies of various crops close together, getting plant\n",
    "stand counts won't work via image recognition, and perhaps we don't want to send someone out\n",
    "into the field to count the crops manually at this stage. So we turn to photogrammetry to\n",
    "estimate plant volume, which can provide a stand-in for biomass measurements.\n",
    "\n",
    "### Photogrammetry and DSMs\n",
    "\n",
    "The way photogrammetry works is by creating a set of key points in overlapping imagery\n",
    "(from a drone, for instance), and creates a point cloud out of this data. At this point, a\n",
    "digital surface model (DSM) can be produced from the point cloud, and the collected imagery\n",
    "can be mapped onto this DSM, creating an orthomosaic.\n",
    "\n",
    "The point cloud produced is similar to that produced by a LIDAR payload, however the difference\n",
    "is that since passive sensors (i.e. an imaging camera) are used, photogrammetry has no ability\n",
    "to penetrate the canopy, so produces a DSM, which is a representation of the surface of objects\n",
    "in the field of view. LIDAR, being an active sensor, has some degree of canopy penetration, and\n",
    "as such can produce digital elevation models (DEMs) as well as DSMs.\n",
    "\n",
    "We only need the surface model for this application. Photogrammetric methods can produce very\n",
    "dense point clouds, so for our purposes it should perform very well."
   ]
  },
  {
   "cell_type": "code",
   "execution_count": null,
   "id": "73aa643e-289e-495c-9d14-87fa28a0c66d",
   "metadata": {},
   "outputs": [],
   "source": [
    "# Bring in our libraries - GDAL and OSR for reading GeoTIFFs, NumPy for array\n",
    "# manipulation, matplotlib for displaying imagery\n",
    "\n",
    "import os, sys\n",
    "\n",
    "from osgeo import gdal\n",
    "from osgeo import osr\n",
    "from osgeo import ogr\n",
    "import numpy as np\n",
    "import matplotlib.pyplot as plt\n",
    "import matplotlib.colors as colors"
   ]
  },
  {
   "cell_type": "markdown",
   "id": "1c6817d1-b421-43d8-a975-3c7d626d1c6f",
   "metadata": {},
   "source": [
    "## Working With GDAL's Warp Again and Shapefiles\n",
    "\n",
    "As it stands, we may not want to look at the entire field, but instead clip it to get rid of\n",
    "some areas we don't want affecting our count, like the trees that lie outside of the fields."
   ]
  },
  {
   "cell_type": "markdown",
   "id": "cb562c15-aab1-41cd-8e1f-57e795f4ab84",
   "metadata": {},
   "source": [
    "### Opening a shapefile using ogr\n",
    "\n",
    "Hint: The syntax we're using to open our shapefile is the same as gdal, just using ogr instead."
   ]
  },
  {
   "cell_type": "markdown",
   "id": "122fb08d-45b2-4fa2-b882-fa32e861424f",
   "metadata": {},
   "source": [
    "### Getting the layer and extent\n",
    "\n",
    "Try retrieving the extent of the shapefile using the GetLayer and GetExtent functions."
   ]
  },
  {
   "cell_type": "markdown",
   "id": "fb269f01-6a14-46bf-b817-1cee628a5b33",
   "metadata": {},
   "source": [
    "### Clipping and resampling the DSMs and orthomosaics\n",
    "\n",
    "Try to use the GDAL Warp function as before, but add the parameters outputBounds,\n",
    "xRes, yRes, and resampleAlg to clip and resize the DSM and orthomosaics to all\n",
    "match each other.\n",
    "\n",
    "- Summer DSM - 2023-07-07_USDA_NACA_400ft_dsm.tif\n",
    "- Winter DSM - 2023-01-27_USDA_NACA_400ft_dsm.tif\n",
    "- Summer BGREN - 2023-07-07_USDA_NACA_400ft_BGREN_DLS_11pTarp.tif\n",
    "\n",
    "Hint: Copy the Warp command from before and refer to this documentation: https://gdal.org/api/python/utilities.html#osgeo.gdal.Warp\n",
    "\n",
    "Pay attention to the order the extent comes back in - it may not match what is needed for the Warp function.\n",
    "\n",
    "Options for resampleAlg are here: https://gdal.org/api/gdalwarp_cpp.html#_CPPv415GDALResampleAlg\n",
    "\n",
    "You'll probably want to keep the summertime DSM cellsize as is and use nearest neighbor for the resampleAlg,\n",
    "and resample the other two using xRes and yRes, using the bilinear option for resampleAlg. Remember that you\n",
    "can retrieve cellsize from the geotransform as in the other workbooks.\n",
    "\n",
    "Note: While not an issue in this example, as all datasets are in the same projection, you may have to\n",
    "change projections to match in datasets as well."
   ]
  },
  {
   "cell_type": "code",
   "execution_count": null,
   "id": "42d33cee-975a-4d5c-8c52-11a081d3afb6",
   "metadata": {},
   "outputs": [],
   "source": [
    "# We're going to clip our image files in this case using a shapefile.\n",
    "filepath = './data/lah1/'\n",
    "\n",
    "shp = ogr.Open(filepath + 'dsm_clip.shp')\n",
    "\n",
    "# Get the extent, and then rearrange because Warp takes them in a different order\n",
    "# than what is returned by GetExtent(). Specifically, it's xMin, yMin, xMax, yMax.\n",
    "# GetExtent() returns xMin, xMax, yMin, yMax.\n",
    "\n",
    "extent = shp.GetLayer().GetExtent()\n",
    "extent_mod = [extent[0], extent[2], extent[1], extent[3]]\n",
    "\n",
    "# Don't need to change the resolution of our summer DSM, but we are going to clip it\n",
    "# using the shapefile - or more specifically the extent of the shapefile for simplicity.\n",
    "\n",
    "try:\n",
    "    outimg = gdal.Warp(filepath + \"summer_dsm_clip.tif\", filepath + \"2023-07-07_USDA_NACA_400ft_dsm.tif\", outputBounds = extent_mod,\n",
    "                    resampleAlg=\"nearestneighbor\", options=['COMPRESS=DEFLATE'])\n",
    "except:\n",
    "    outimg = gdal.Warp(filepath + \"summer_dsm_clip.tif\", filepath + \"2023-07-07_USDA_NACA_400ft_dsm.tif\", outputBounds = extent_mod,\n",
    "                    resampleAlg=gdal.GRA_NearestNeighbour, options=['COMPRESS=DEFLATE'])\n",
    "outimg = None\n",
    "\n",
    "# Let's open the generated GeoTIFF. Could have put this straight to memory instead.\n",
    "img = gdal.Open(filepath + \"summer_dsm_clip.tif\")\n",
    "\n",
    "# Get our image's geographic information\n",
    "geotransform = img.GetGeoTransform()\n",
    "wkt = img.GetProjection()\n",
    "proj = osr.SpatialReference(wkt)\n",
    "\n",
    "# Definitely need our x/y cell sizes for later.\n",
    "xcellsize = geotransform[1]\n",
    "ycellsize = geotransform[5]\n",
    "\n",
    "# Clip our other rasters and resample to match summer DSM.\n",
    "outimg = gdal.Warp(filepath + \"winter_dsm_clip.tif\", filepath + \"2023-01-27_USDA_NACA_400ft_dsm.tif\", outputBounds=extent_mod, \n",
    "                    xRes=xcellsize, yRes=ycellsize, resampleAlg=gdal.GRA_Bilinear, options=['COMPRESS=DEFLATE'])\n",
    "outimg = None\n",
    "\n",
    "outimg = gdal.Warp(filepath + \"summer_bgren_clip.tif\", filepath + \"2023-07-07_USDA_NACA_400ft_BGREN_DLS_11pTarp.tif\", outputBounds=extent_mod, \n",
    "                    xRes=xcellsize, yRes=ycellsize, resampleAlg=gdal.GRA_Bilinear, options=['COMPRESS=DEFLATE'])\n",
    "outimg = None"
   ]
  },
  {
   "cell_type": "code",
   "execution_count": null,
   "id": "66175f38-8c74-4c8d-95f8-ceb02af42617",
   "metadata": {},
   "outputs": [],
   "source": [
    "# The easiest way to change the display scale for imagery is to change the DPI.\n",
    "# The larger the number, the more it will slow things down.\n",
    "plt.rcParams['figure.dpi'] = 300"
   ]
  },
  {
   "cell_type": "markdown",
   "id": "422936f5-b901-46bc-a8de-34f59868157a",
   "metadata": {},
   "source": [
    "## Compute NDVI\n",
    "\n",
    "Open your new resampled files and compute NDVI from it as we did in the other notebook."
   ]
  },
  {
   "cell_type": "code",
   "execution_count": null,
   "id": "1497403e-aaff-4299-a9f6-4bf3c36f0d55",
   "metadata": {},
   "outputs": [],
   "source": [
    "# Let's do some band math now!\n",
    "\n",
    "# Compute NDVI from resampled BGREN mosaic.\n",
    "\n",
    "img = gdal.Open(filepath + \"summer_bgren_clip.tif\")\n",
    "red = img.GetRasterBand(3).ReadAsArray()\n",
    "nir = img.GetRasterBand(5).ReadAsArray()\n",
    "\n",
    "ndvi = (nir - red)/(nir + red)"
   ]
  },
  {
   "cell_type": "markdown",
   "id": "0cea1f55-acf3-4c45-8eb4-e6a3040fe17b",
   "metadata": {},
   "source": [
    "## Open DSMs and Get Difference\n",
    "\n",
    "Open the two DSMs and subtract the winter DSM from the summer DSM to get the difference between the two."
   ]
  },
  {
   "cell_type": "code",
   "execution_count": null,
   "id": "890982f3-e8ac-4394-9935-2128320fdd2e",
   "metadata": {},
   "outputs": [],
   "source": [
    "# Let's subtract our basemap from the summer DSM.\n",
    "\n",
    "img = gdal.Open(filepath + \"summer_dsm_clip.tif\")\n",
    "summer_dsm = img.GetRasterBand(1).ReadAsArray()\n",
    "\n",
    "img = gdal.Open(filepath + \"winter_dsm_clip.tif\")\n",
    "winter_dsm = img.GetRasterBand(1).ReadAsArray()\n",
    "\n",
    "diff = summer_dsm - winter_dsm\n",
    "imdiff = plt.imshow(diff, cmap='gray')\n"
   ]
  },
  {
   "cell_type": "markdown",
   "id": "8aa10702-a099-44c0-b36f-77ba68d69620",
   "metadata": {},
   "source": [
    "## Filtering Based On Plant Material\n",
    "\n",
    "Use NumPy's where function to set our difference array to zero wherever NDVI is less than zero. Also\n",
    "consider setting any negative values to zero at the same time."
   ]
  },
  {
   "cell_type": "code",
   "execution_count": null,
   "id": "36a0b009-ffd0-4351-8255-dd1f075f7a04",
   "metadata": {},
   "outputs": [],
   "source": [
    "# Now we want to filter this for only plant material. So let's do a conditional.\n",
    "\n",
    "# Let's also make sure we don't have negative values from vegetation that may have been present\n",
    "# in winter but isn't now.\n",
    "\n",
    "diff_filtered = np.where((ndvi < 0) | (diff < 0), 0, diff)\n",
    "\n",
    "imdifffilt = plt.imshow(diff_filtered, cmap='gray')\n",
    "\n",
    "print (diff_filtered.min())\n",
    "print (diff_filtered.max())"
   ]
  },
  {
   "cell_type": "markdown",
   "id": "e09762b5-267d-4199-a57b-78551290c39f",
   "metadata": {},
   "source": [
    "## Computing Volume From Difference Array\n",
    "\n",
    "Use the cellsize for x and y multiplied by the DSM differential array to get the volume for each pixel.\n",
    "\n",
    "Note that cellsize might be negative, so use abs(cellsize) on them."
   ]
  },
  {
   "cell_type": "code",
   "execution_count": null,
   "id": "6691974b-d997-40a1-bb77-5c0175cf4cae",
   "metadata": {},
   "outputs": [],
   "source": [
    "# Get total plant volume from DSM.\n",
    "\n",
    "# Use X and Y resolution and height to compute volume.\n",
    "\n",
    "print(xcellsize, ycellsize)\n",
    "\n",
    "volume_array = diff_filtered * abs(xcellsize) * abs(ycellsize)\n",
    "imvolume = plt.imshow(volume_array, cmap='Spectral')\n",
    "\n",
    "print (diff_filtered[0][0] * abs(xcellsize) * abs(ycellsize))\n",
    "print (volume_array[0][0])"
   ]
  },
  {
   "cell_type": "markdown",
   "id": "3e3997a5-fc11-4a82-b513-ce0291624e48",
   "metadata": {},
   "source": [
    "## Sum Up All Values in Array\n",
    "\n",
    "Use NumPy's sum function on the volume array we just produced to get total biomass. Assuming, of course, the underlying\n",
    "field hasn't changed significantly during the elapsed time period."
   ]
  },
  {
   "cell_type": "code",
   "execution_count": null,
   "id": "14d51292-a3c4-4da4-8e46-e6969c52f0bf",
   "metadata": {},
   "outputs": [],
   "source": [
    "# Now sum up all our individual volumes (per-pixel) to get total biomass.\n",
    "\n",
    "total = np.sum(volume_array)\n",
    "print (\"Total volume (m^3):\", total)"
   ]
  },
  {
   "cell_type": "code",
   "execution_count": null,
   "id": "ed5f213b-6f8b-4b14-bdb6-9c8e5f5151dc",
   "metadata": {},
   "outputs": [],
   "source": []
  }
 ],
 "metadata": {
  "kernelspec": {
   "display_name": "Python [conda env:pyworkshop]",
   "language": "python",
   "name": "conda-env-pyworkshop-py"
  },
  "language_info": {
   "codemirror_mode": {
    "name": "ipython",
    "version": 3
   },
   "file_extension": ".py",
   "mimetype": "text/x-python",
   "name": "python",
   "nbconvert_exporter": "python",
   "pygments_lexer": "ipython3",
   "version": "3.8.15"
  }
 },
 "nbformat": 4,
 "nbformat_minor": 5
}
