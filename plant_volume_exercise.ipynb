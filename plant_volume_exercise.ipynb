{
 "cells": [
  {
   "cell_type": "markdown",
   "id": "5943d1d7-18f5-403a-aa27-79cee8176b45",
   "metadata": {},
   "source": [
    "# Python Learn By Doing - Computing Plant Volume\n",
    "\n",
    "**Author:** Lee Hathcock"
   ]
  },
  {
   "cell_type": "markdown",
   "id": "e525393d-b1c0-4850-9e32-ce9b54a478b3",
   "metadata": {},
   "source": [
    "## Why We Might Want to Compute Plant Volume\n",
    "\n",
    "Late in the growing season, when canopies of various crops close together, getting plant\n",
    "stand counts won't work via image recognition, and perhaps we don't want to send someone out\n",
    "into the field to count the crops manually at this stage. So we turn to photogrammetry to\n",
    "estimate plant volume, which can provide a stand-in for biomass measurements.\n",
    "\n",
    "### Photogrammetry and DSMs\n",
    "\n",
    "The way photogrammetry works is by creating a set of key points in overlapping imagery\n",
    "(from a drone, for instance), and creates a point cloud out of this data. At this point, a\n",
    "digital surface model (DSM) can be produced from the point cloud, and the collected imagery\n",
    "can be mapped onto this DSM, creating an orthomosaic.\n",
    "\n",
    "The point cloud produced is similar to that produced by a LIDAR payload, however the difference\n",
    "is that since passive sensors (i.e. an imaging camera) are used, photogrammetry has no ability\n",
    "to penetrate the canopy, so produces a DSM, which is a representation of the surface of objects\n",
    "in the field of view. LIDAR, being an active sensor, has some degree of canopy penetration, and\n",
    "as such can produce digital elevation models (DEMs) as well as DSMs.\n",
    "\n",
    "We only need the surface model for this application. Photogrammetric methods can produce very\n",
    "dense point clouds, so for our purposes it should perform very well."
   ]
  },
  {
   "cell_type": "code",
   "execution_count": 1,
   "id": "73aa643e-289e-495c-9d14-87fa28a0c66d",
   "metadata": {},
   "outputs": [],
   "source": [
    "# Bring in our libraries - GDAL and OSR for reading GeoTIFFs, NumPy for array\n",
    "# manipulation, matplotlib for displaying imagery\n",
    "\n",
    "import os, sys\n",
    "\n",
    "from osgeo import gdal\n",
    "from osgeo import osr\n",
    "from osgeo import ogr\n",
    "import numpy as np\n",
    "import matplotlib.pyplot as plt\n",
    "import matplotlib.colors as colors"
   ]
  },
  {
   "cell_type": "markdown",
   "id": "1c6817d1-b421-43d8-a975-3c7d626d1c6f",
   "metadata": {},
   "source": [
    "## Working With GDAL's Warp Again and Shapefiles\n",
    "\n",
    "As it stands, we may not want to look at the entire field, but instead clip it to get rid of\n",
    "some areas we don't want affecting our count, like the trees that lie outside of the fields."
   ]
  },
  {
   "cell_type": "markdown",
   "id": "cb562c15-aab1-41cd-8e1f-57e795f4ab84",
   "metadata": {},
   "source": [
    "### Opening a shapefile using ogr\n",
    "\n",
    "Hint: The syntax we're using to open our shapefile is the same as gdal, just using ogr instead."
   ]
  },
  {
   "cell_type": "code",
   "execution_count": 2,
   "id": "d9e02390-2a02-4ebe-a6fa-ac994f544215",
   "metadata": {},
   "outputs": [],
   "source": [
    "# Open shapefile.\n",
    "\n"
   ]
  },
  {
   "cell_type": "markdown",
   "id": "122fb08d-45b2-4fa2-b882-fa32e861424f",
   "metadata": {},
   "source": [
    "### Getting the layer and extent\n",
    "\n",
    "Try retrieving the extent of the shapefile using the GetLayer and GetExtent functions."
   ]
  },
  {
   "cell_type": "code",
   "execution_count": 3,
   "id": "710f744e-432f-407c-8dd4-1dc33713c3e4",
   "metadata": {},
   "outputs": [],
   "source": [
    "# Use GetLayer and GetExtent functions on shapefile.\n",
    "\n"
   ]
  },
  {
   "cell_type": "markdown",
   "id": "fb269f01-6a14-46bf-b817-1cee628a5b33",
   "metadata": {},
   "source": [
    "### Clipping and resampling the DSMs and orthomosaics\n",
    "\n",
    "Try to use the GDAL Warp function as before, but add the parameters outputBounds,\n",
    "xRes, yRes, and resampleAlg to clip and resize the DSMs and orthomosaic to all\n",
    "match each other.\n",
    "\n",
    "- Summer DSM - 2023-07-07_USDA_NACA_400ft_dsm.tif\n",
    "- Winter DSM - 2023-01-27_USDA_NACA_400ft_dsm.tif\n",
    "- Summer ortho - 2023-07-07_USDA_NACA_400ft_BGREN_DLS_11pTarp.tif\n",
    "\n",
    "Hint: Copy the Warp command from before and refer to this documentation: https://gdal.org/api/python/utilities.html#osgeo.gdal.Warp\n",
    "\n",
    "Pay attention to the order the extent comes back in - it may not match what is needed for the Warp function.\n",
    "\n",
    "Options for resampleAlg are here: https://gdal.org/api/gdalwarp_cpp.html#_CPPv415GDALResampleAlg\n",
    "\n",
    "You'll probably want to keep the summertime DSM cellsize as is and use nearest neighbor for the resampleAlg,\n",
    "and resample the other two using xRes and yRes, using the bilinear option for resampleAlg. Remember that you\n",
    "can retrieve cellsize from the geotransform as in the other workbooks.\n",
    "\n",
    "Note: While not an issue in this example, as all datasets are in the same projection, you may have to\n",
    "change projections to match in datasets as well."
   ]
  },
  {
   "cell_type": "code",
   "execution_count": 4,
   "id": "0b26c65f-675a-4444-a400-1fd9da6fbef4",
   "metadata": {},
   "outputs": [],
   "source": [
    "# Use gdal.Warp to clip and resize DSMs / BGREN ortho.\n",
    "\n"
   ]
  },
  {
   "cell_type": "markdown",
   "id": "422936f5-b901-46bc-a8de-34f59868157a",
   "metadata": {},
   "source": [
    "## Compute NDVI\n",
    "\n",
    "Open your new resampled files and compute NDVI from it as we did in the other notebook."
   ]
  },
  {
   "cell_type": "code",
   "execution_count": 5,
   "id": "f64999a6-7826-4952-b8af-580feef3b1f7",
   "metadata": {},
   "outputs": [],
   "source": [
    "# Compute NDVI (NIR - Red)/(NIR + Red).\n",
    "\n"
   ]
  },
  {
   "cell_type": "markdown",
   "id": "0cea1f55-acf3-4c45-8eb4-e6a3040fe17b",
   "metadata": {},
   "source": [
    "## Open DSMs and Get Difference\n",
    "\n",
    "Open the two DSMs and subtract the winter DSM from the summer DSM to get the difference between the two."
   ]
  },
  {
   "cell_type": "code",
   "execution_count": 6,
   "id": "053de55d-ccbe-4826-b259-ad4817036697",
   "metadata": {},
   "outputs": [],
   "source": [
    "# Compute difference between summer and winter DSM.\n",
    "\n"
   ]
  },
  {
   "cell_type": "markdown",
   "id": "8aa10702-a099-44c0-b36f-77ba68d69620",
   "metadata": {},
   "source": [
    "## Filtering Based On Plant Material\n",
    "\n",
    "Use NumPy's where function to set our difference array to zero wherever NDVI is less than zero. Also\n",
    "consider setting any negative values to zero at the same time."
   ]
  },
  {
   "cell_type": "code",
   "execution_count": 7,
   "id": "603132bc-38f5-4835-857d-f8250ff915f6",
   "metadata": {},
   "outputs": [],
   "source": [
    "# Use NDVI to set non-vegetation areas in difference array to zero.\n",
    "\n",
    "# Clean up negative values.\n",
    "\n"
   ]
  },
  {
   "cell_type": "markdown",
   "id": "e09762b5-267d-4199-a57b-78551290c39f",
   "metadata": {},
   "source": [
    "## Computing Volume From Difference Array\n",
    "\n",
    "Use the cellsize for x and y multiplied by the DSM differential array to get the volume for each pixel.\n",
    "\n",
    "Note that cellsize might be negative, so use abs(cellsize) on them."
   ]
  },
  {
   "cell_type": "code",
   "execution_count": 8,
   "id": "6691974b-d997-40a1-bb77-5c0175cf4cae",
   "metadata": {},
   "outputs": [],
   "source": [
    "# Get total plant volume from DSM.\n",
    "\n",
    "# Use X and Y resolution and height to compute volume.\n",
    "\n"
   ]
  },
  {
   "cell_type": "markdown",
   "id": "3e3997a5-fc11-4a82-b513-ce0291624e48",
   "metadata": {},
   "source": [
    "## Sum Up All Values in Array\n",
    "\n",
    "Use NumPy's sum function on the volume array we just produced to get total biomass. Assuming, of course, the underlying\n",
    "field hasn't changed significantly during the elapsed time period."
   ]
  },
  {
   "cell_type": "code",
   "execution_count": 9,
   "id": "14d51292-a3c4-4da4-8e46-e6969c52f0bf",
   "metadata": {},
   "outputs": [],
   "source": [
    "# Now sum up all our individual volumes (per-pixel) to get total volume.\n"
   ]
  }
 ],
 "metadata": {
  "kernelspec": {
   "display_name": "Python [conda env:pyworkshop]",
   "language": "python",
   "name": "conda-env-pyworkshop-py"
  },
  "language_info": {
   "codemirror_mode": {
    "name": "ipython",
    "version": 3
   },
   "file_extension": ".py",
   "mimetype": "text/x-python",
   "name": "python",
   "nbconvert_exporter": "python",
   "pygments_lexer": "ipython3",
   "version": "3.8.15"
  }
 },
 "nbformat": 4,
 "nbformat_minor": 5
}
